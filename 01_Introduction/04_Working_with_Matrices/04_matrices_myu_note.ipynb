{
 "cells": [
  {
   "cell_type": "markdown",
   "metadata": {},
   "source": [
    "# 使用矩阵的笔记\n",
    "\n",
    "\n",
    "\n",
    "首先要引入tensorflow并创建会话"
   ]
  },
  {
   "cell_type": "code",
   "execution_count": 1,
   "metadata": {},
   "outputs": [],
   "source": [
    "import tensorflow as tf\n",
    "from tensorflow.python.framework import ops\n",
    "ops.reset_default_graph()"
   ]
  },
  {
   "cell_type": "raw",
   "metadata": {},
   "source": [
    "ops.reset_default_graph()创建默认计算图"
   ]
  },
  {
   "cell_type": "code",
   "execution_count": 2,
   "metadata": {},
   "outputs": [
    {
     "name": "stdout",
     "output_type": "stream",
     "text": [
      "<tensorflow.python.client.session.Session object at 0x7fecd00d31d0>\n"
     ]
    }
   ],
   "source": [
    "sess = tf.Session()\n",
    "print(sess)"
   ]
  },
  {
   "cell_type": "markdown",
   "metadata": {},
   "source": [
    "## 创建矩阵\n",
    "\n",
    "diag方法可以从一个一维数组创建对角矩阵"
   ]
  },
  {
   "cell_type": "code",
   "execution_count": 4,
   "metadata": {},
   "outputs": [
    {
     "name": "stdout",
     "output_type": "stream",
     "text": [
      "Tensor(\"Diag_1:0\", shape=(3, 3), dtype=float32)\n",
      "[[1. 0. 0.]\n",
      " [0. 1. 0.]\n",
      " [0. 0. 1.]]\n"
     ]
    }
   ],
   "source": [
    "diag_matrix = tf.diag([1.0,1.0,1.0])\n",
    "# 此时打印的仅仅是这个矩阵的定义，不包含值，要run才有值\n",
    "print(diag_matrix)\n",
    "# 这里才打印出对角矩阵\n",
    "print(sess.run(diag_matrix))"
   ]
  },
  {
   "cell_type": "markdown",
   "metadata": {},
   "source": [
    "创建矩阵的几种方法：除了从diag创建对角矩阵，还有很多tf的创建张量的方法可以创建二维矩阵"
   ]
  },
  {
   "cell_type": "code",
   "execution_count": 30,
   "metadata": {},
   "outputs": [
    {
     "name": "stdout",
     "output_type": "stream",
     "text": [
      "[[ 1.1523463   0.070458    0.5607026 ]\n",
      " [-0.03997219 -1.5432627  -0.67451173]]\n",
      "[[5. 5. 5.]\n",
      " [5. 5. 5.]]\n",
      "[[0.3675202  0.11370814]\n",
      " [0.29109323 0.48812413]\n",
      " [0.58528507 0.6970837 ]]\n",
      "[[ 1.  2.  3.]\n",
      " [-3. -7. -1.]\n",
      " [ 0.  5. -2.]]\n"
     ]
    }
   ],
   "source": [
    "# 正态分布\n",
    "A = tf.truncated_normal([2,3])\n",
    "print(sess.run(A))\n",
    "\n",
    "# 填充\n",
    "B = tf.fill([2,3],5.0)\n",
    "print(sess.run(B))\n",
    "\n",
    "# 随机\n",
    "C = tf.random_uniform([3,2])\n",
    "print(sess.run(C))\n",
    "\n",
    "# 从numpy的u数组导入\n",
    "import numpy as np\n",
    "\n",
    "D = tf.convert_to_tensor(np.array([[1.,2.,3.],[-3.,-7.,-1.],[0.,5.,-2.]]))\n",
    "print(sess.run(D))"
   ]
  },
  {
   "cell_type": "markdown",
   "metadata": {},
   "source": [
    "## 矩阵的计算"
   ]
  },
  {
   "cell_type": "code",
   "execution_count": 17,
   "metadata": {},
   "outputs": [
    {
     "name": "stdout",
     "output_type": "stream",
     "text": [
      "[[3.9820123 4.4009657 5.4429116]\n",
      " [5.5559883 3.8690114 4.018817 ]]\n",
      "[[0. 0. 0.]\n",
      " [0. 0. 0.]]\n"
     ]
    }
   ],
   "source": [
    "print(sess.run(A+B))\n",
    "\n",
    "print(sess.run(B-B))"
   ]
  },
  {
   "cell_type": "code",
   "execution_count": 19,
   "metadata": {},
   "outputs": [
    {
     "name": "stdout",
     "output_type": "stream",
     "text": [
      "[[10. 10. 10.]\n",
      " [10. 10. 10.]]\n"
     ]
    }
   ],
   "source": [
    "# 矩阵叉乘\n",
    "diag_matrix = tf.diag([2.0,2.0,2.0])\n",
    "print(sess.run(tf.matmul(B,diag_matrix)))"
   ]
  },
  {
   "cell_type": "code",
   "execution_count": 22,
   "metadata": {},
   "outputs": [
    {
     "name": "stdout",
     "output_type": "stream",
     "text": [
      "[[ 1.  2.  3.]\n",
      " [-1. -7. -3.]\n",
      " [ 0.  5. -2.]]\n",
      "[[ 1. -1.  0.]\n",
      " [ 2. -7.  5.]\n",
      " [ 3. -3. -2.]]\n"
     ]
    }
   ],
   "source": [
    "# 矩阵转置 矩阵沿左上到右下的对角线镜面翻转\n",
    "print(sess.run(D))\n",
    "print(sess.run(tf.transpose(D)))"
   ]
  },
  {
   "cell_type": "code",
   "execution_count": 25,
   "metadata": {},
   "outputs": [
    {
     "name": "stdout",
     "output_type": "stream",
     "text": [
      "9.999999999999998\n"
     ]
    }
   ],
   "source": [
    "# 矩阵行列式 有精度问题\n",
    "print(sess.run(tf.matrix_determinant(D)))\n"
   ]
  },
  {
   "cell_type": "code",
   "execution_count": 31,
   "metadata": {},
   "outputs": [
    {
     "name": "stdout",
     "output_type": "stream",
     "text": [
      "[[ 1.  2.  3.]\n",
      " [-3. -7. -1.]\n",
      " [ 0.  5. -2.]]\n",
      "[[-0.5        -0.5        -0.5       ]\n",
      " [ 0.15789474  0.05263158  0.21052632]\n",
      " [ 0.39473684  0.13157895  0.02631579]]\n",
      "[[ 1.00000000e+00  0.00000000e+00 -8.32667268e-17]\n",
      " [-1.11022302e-16  1.00000000e+00  1.04083409e-16]\n",
      " [ 1.11022302e-16  0.00000000e+00  1.00000000e+00]]\n"
     ]
    }
   ],
   "source": [
    "# 逆矩阵\n",
    "print(sess.run(D))\n",
    "print(sess.run(tf.matrix_inverse(D)))\n",
    "print(sess.run(tf.matmul(D,tf.matrix_inverse(D))))\n",
    "# 矩阵叉乘逆矩阵应该为单位矩阵（对角线为1,其余为0），但是由于精度问题会有错误出现"
   ]
  },
  {
   "cell_type": "code",
   "execution_count": 33,
   "metadata": {},
   "outputs": [
    {
     "name": "stdout",
     "output_type": "stream",
     "text": [
      "[[2. 0. 0.]\n",
      " [0. 2. 0.]\n",
      " [0. 0. 2.]]\n",
      "[[1.4142135 0.        0.       ]\n",
      " [0.        1.4142135 0.       ]\n",
      " [0.        0.        1.4142135]]\n"
     ]
    }
   ],
   "source": [
    "# 矩阵分解 cholesky分解法\n",
    "print(sess.run(diag_matrix))\n",
    "print(sess.run(tf.cholesky(diag_matrix)))\n"
   ]
  },
  {
   "cell_type": "code",
   "execution_count": null,
   "metadata": {},
   "outputs": [],
   "source": [
    "# 矩阵特征值，特征向量\n",
    "print(sess.run(tf.self_adjoint_eig(D)))"
   ]
  }
 ],
 "metadata": {
  "kernelspec": {
   "display_name": "Python 3",
   "language": "python",
   "name": "python3"
  },
  "language_info": {
   "codemirror_mode": {
    "name": "ipython",
    "version": 3
   },
   "file_extension": ".py",
   "mimetype": "text/x-python",
   "name": "python",
   "nbconvert_exporter": "python",
   "pygments_lexer": "ipython3",
   "version": "3.6.9"
  }
 },
 "nbformat": 4,
 "nbformat_minor": 2
}
